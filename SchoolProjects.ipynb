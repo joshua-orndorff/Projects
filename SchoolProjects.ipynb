{
  "nbformat": 4,
  "nbformat_minor": 0,
  "metadata": {
    "colab": {
      "provenance": [],
      "authorship_tag": "ABX9TyPND7n2asL8jCrUB1c0scwK"
    },
    "kernelspec": {
      "name": "python3",
      "display_name": "Python 3"
    },
    "language_info": {
      "name": "python"
    }
  },
  "cells": [
    {
      "cell_type": "code",
      "source": [
        "# Program: Get a sentence from the user. Remove all the consonants and print out the sentence without consonants. Also count and print out the number of vowels, number of consonants, and the number of other characters."
      ],
      "metadata": {
        "id": "Qe_0qEww8C5A"
      },
      "execution_count": null,
      "outputs": []
    },
    {
      "cell_type": "code",
      "execution_count": null,
      "metadata": {
        "id": "6Dzytpv579rz"
      },
      "outputs": [],
      "source": [
        "usersentence = input('Input any sentence : ')\n",
        "\n",
        "consonants = ('bcdfghjklmnpqrstvwxyzBCDFGHJKLMNPQRSTVWXYZ')\n",
        "vowels = ('aeiouAEIOU')\n",
        "\n",
        "newsentence = ''\n",
        "conscount = 0\n",
        "vowcount = 0\n",
        "othercount = 0\n",
        "\n",
        "for char in usersentence :\n",
        "  if char in consonants :\n",
        "    conscount += 1\n",
        "  elif char in vowels :\n",
        "    newsentence += char\n",
        "    vowcount += 1\n",
        "  else :\n",
        "    newsentence += char\n",
        "    othercount += 1\n",
        "print('The sentence',usersentence,'without consonants is',newsentence)\n",
        "print('There are',conscount,'consonants in the original sentence')\n",
        "print('There are',vowcount,'vowels in the original sentence')\n",
        "print('There are',othercount,'other characters in the original sentence')"
      ]
    },
    {
      "cell_type": "code",
      "source": [
        "# Program: Write a program that finds the minimum spam percent in a txt file"
      ],
      "metadata": {
        "id": "PMRoNVju8HER"
      },
      "execution_count": null,
      "outputs": []
    },
    {
      "cell_type": "code",
      "source": [
        "file_handle= open('mbox-short.txt' )  \n",
        "min_spam_percent = 1   \n",
        "for line in file_handle:  \n",
        "  if line.startswith( 'X-DSPAM-Confidence:' ):  \n",
        "     spam_percent_string = line.strip().split(':')[-1].strip()        \n",
        "     spam_percent = int(spam_percent_string)\n",
        "    if spam_percent < min_spam_percent : \n",
        "      min_spam_percent = spam_percent \n",
        "print ( 'min is' , min_spam_percent)"
      ],
      "metadata": {
        "id": "5QCvozJ_8lx3"
      },
      "execution_count": null,
      "outputs": []
    },
    {
      "cell_type": "code",
      "source": [
        "# Program: Make a simple plot using pandas and matplot libraries with BTC data"
      ],
      "metadata": {
        "id": "QKp21pi58qpD"
      },
      "execution_count": null,
      "outputs": []
    },
    {
      "cell_type": "code",
      "source": [
        "import pandas as pd\n",
        "import matplotlib.pyplot as plt\n",
        "\n",
        "bitcoin_data = pd.read_csv('BTC_USD-Bittrex_Historical_Data.csv', parse_dates = ['Date'], thousands = ',')\n",
        "date = bitcoin_data['Date']\n",
        "low = bitcoin_data['Low']\n",
        "plt.plot(date,low)"
      ],
      "metadata": {
        "id": "Nb0DsADH8mw-"
      },
      "execution_count": null,
      "outputs": []
    }
  ]
}